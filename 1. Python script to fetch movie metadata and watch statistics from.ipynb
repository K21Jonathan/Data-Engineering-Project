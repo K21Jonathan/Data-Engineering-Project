{
 "cells": [
  {
   "cell_type": "markdown",
   "id": "3f02ec7a-a32c-457b-b17b-08e531b867e0",
   "metadata": {},
   "source": [
    "# Python script to fetch movie metadata and watch statistics"
   ]
  },
  {
   "cell_type": "code",
   "execution_count": 1,
   "id": "b389a33e-633a-4073-87cf-0e49bbabe9fa",
   "metadata": {},
   "outputs": [
    {
     "name": "stdout",
     "output_type": "stream",
     "text": [
      "Requirement already satisfied: requests in c:\\users\\jonathan oyekola\\appdata\\local\\programs\\python\\python313\\lib\\site-packages (2.32.4)\n",
      "Requirement already satisfied: charset_normalizer<4,>=2 in c:\\users\\jonathan oyekola\\appdata\\local\\programs\\python\\python313\\lib\\site-packages (from requests) (3.4.2)\n",
      "Requirement already satisfied: idna<4,>=2.5 in c:\\users\\jonathan oyekola\\appdata\\local\\programs\\python\\python313\\lib\\site-packages (from requests) (3.10)\n",
      "Requirement already satisfied: urllib3<3,>=1.21.1 in c:\\users\\jonathan oyekola\\appdata\\local\\programs\\python\\python313\\lib\\site-packages (from requests) (2.5.0)\n",
      "Requirement already satisfied: certifi>=2017.4.17 in c:\\users\\jonathan oyekola\\appdata\\local\\programs\\python\\python313\\lib\\site-packages (from requests) (2025.7.14)\n",
      "Note: you may need to restart the kernel to use updated packages.\n"
     ]
    }
   ],
   "source": [
    "pip install requests"
   ]
  },
  {
   "cell_type": "code",
   "execution_count": 2,
   "id": "96e735a1-c0b6-4354-bae7-9236b69e44c4",
   "metadata": {},
   "outputs": [],
   "source": [
    "import requests\n",
    "from pprint import pprint"
   ]
  },
  {
   "cell_type": "markdown",
   "id": "2c3b9a9a-6379-4a53-aafd-43784c7e2ab4",
   "metadata": {},
   "source": [
    "### TMDb API key defined"
   ]
  },
  {
   "cell_type": "code",
   "execution_count": 4,
   "id": "dace6ee6-240e-4cbd-9143-22fa934e3605",
   "metadata": {},
   "outputs": [],
   "source": [
    "API_KEY = 'cb14257b9a7d0a1f02dc36ad0043b14a'\n",
    "BASE_URL = \"https://api.themoviedb.org/3\""
   ]
  },
  {
   "cell_type": "markdown",
   "id": "19b4c76e-771e-4dd5-b32f-e819f53563af",
   "metadata": {},
   "source": [
    "### Fetch movie details from TMDb API"
   ]
  },
  {
   "cell_type": "code",
   "execution_count": 5,
   "id": "934598d2-de71-4af8-81df-05b80e476673",
   "metadata": {},
   "outputs": [],
   "source": [
    "def get_movie_details(movie_id: int) -> dict:\n",
    "    url = f\"{BASE_URL}/movie/{movie_id}\"\n",
    "    params = {\"api_key\": API_KEY, \"language\": \"en-US\"}\n",
    "    response = requests.get(url, params=params)\n",
    "    response.raise_for_status()\n",
    "    return response.json()"
   ]
  },
  {
   "cell_type": "markdown",
   "id": "00a2d914-5b38-4a35-b3ad-c4ebb57248ac",
   "metadata": {},
   "source": [
    "### Fetch watch providers for a movie by country"
   ]
  },
  {
   "cell_type": "code",
   "execution_count": 6,
   "id": "94ac188f-6a44-41a3-960d-7daede77f6e3",
   "metadata": {},
   "outputs": [],
   "source": [
    "def get_watch_providers(movie_id: int, country_code: str = \"US\") -> dict:\n",
    "    url = f\"{BASE_URL}/movie/{movie_id}/watch/providers\"\n",
    "    params = {\"api_key\": API_KEY}\n",
    "    response = requests.get(url, params=params)\n",
    "    response.raise_for_status()\n",
    "    data = response.json()\n",
    "    return data.get(\"results\", {}).get(country_code, {})"
   ]
  },
  {
   "cell_type": "code",
   "execution_count": 8,
   "id": "3e7a3997-b1e2-4be3-870a-1c560c2ea23e",
   "metadata": {},
   "outputs": [
    {
     "name": "stdout",
     "output_type": "stream",
     "text": [
      "Metadata:\n",
      "{'genres': [{'id': 18, 'name': 'Drama'}, {'id': 53, 'name': 'Thriller'}],\n",
      " 'overview': 'A ticking-time-bomb insomniac and a slippery soap salesman '\n",
      "             'channel primal male aggression into a shocking new form of '\n",
      "             'therapy. Their concept catches on, with underground \"fight '\n",
      "             'clubs\" forming in every town, until an eccentric gets in the way '\n",
      "             'and ignites an out-of-control spiral toward oblivion.',\n",
      " 'release_date': '1999-10-15',\n",
      " 'title': 'Fight Club'}\n",
      "\n",
      "Watch Providers (US):\n",
      "{'buy': [{'display_priority': 4,\n",
      "          'logo_path': '/seGSXajazLMCKGB5hnRCidtjay1.jpg',\n",
      "          'provider_id': 10,\n",
      "          'provider_name': 'Amazon Video'},\n",
      "         {'display_priority': 5,\n",
      "          'logo_path': '/9ghgSC0MA082EL6HLCW3GalykFD.jpg',\n",
      "          'provider_id': 2,\n",
      "          'provider_name': 'Apple TV'},\n",
      "         {'display_priority': 14,\n",
      "          'logo_path': '/8z7rC8uIDaTM91X0ZfkRf04ydj2.jpg',\n",
      "          'provider_id': 3,\n",
      "          'provider_name': 'Google Play Movies'},\n",
      "         {'display_priority': 15,\n",
      "          'logo_path': '/pTnn5JwWr4p3pG8H6VrpiQo7Vs0.jpg',\n",
      "          'provider_id': 192,\n",
      "          'provider_name': 'YouTube'},\n",
      "         {'display_priority': 35,\n",
      "          'logo_path': '/19fkcOz0xeUgCVW8tO85uOYnYK9.jpg',\n",
      "          'provider_id': 7,\n",
      "          'provider_name': 'Fandango At Home'}],\n",
      " 'flatrate': [{'display_priority': 1,\n",
      "               'logo_path': '/97yvRBw1GzX7fXprcF80er19ot.jpg',\n",
      "               'provider_id': 337,\n",
      "               'provider_name': 'Disney Plus'},\n",
      "              {'display_priority': 6,\n",
      "               'logo_path': '/bxBlRPEPpMVDc4jMhSrTf2339DW.jpg',\n",
      "               'provider_id': 15,\n",
      "               'provider_name': 'Hulu'},\n",
      "              {'display_priority': 9,\n",
      "               'logo_path': '/jbe4gVSfRlbPTdESXhEKpornsfu.jpg',\n",
      "               'provider_id': 1899,\n",
      "               'provider_name': 'HBO Max'},\n",
      "              {'display_priority': 10,\n",
      "               'logo_path': '/5AkEgpCNaBP3Fbwd2m1GdQIk0vv.jpg',\n",
      "               'provider_id': 1825,\n",
      "               'provider_name': 'HBO Max Amazon Channel'},\n",
      "              {'display_priority': 20,\n",
      "               'logo_path': '/oTQdXIqM9iewlN4MC2nhKB0gHw.jpg',\n",
      "               'provider_id': 1854,\n",
      "               'provider_name': 'AMC Plus Apple TV Channel '},\n",
      "              {'display_priority': 24,\n",
      "               'logo_path': '/2ino0WmHA4GROB7NYKzT6PGqLcb.jpg',\n",
      "               'provider_id': 528,\n",
      "               'provider_name': 'AMC+ Amazon Channel'},\n",
      "              {'display_priority': 29,\n",
      "               'logo_path': '/ovmu6uot1XVvsemM2dDySXLiX57.jpg',\n",
      "               'provider_id': 526,\n",
      "               'provider_name': 'AMC+'},\n",
      "              {'display_priority': 53,\n",
      "               'logo_path': '/ptmbGSttkyzawLbxx9MElmxKuVo.jpg',\n",
      "               'provider_id': 2383,\n",
      "               'provider_name': 'Philo'}],\n",
      " 'link': 'https://www.themoviedb.org/movie/550-fight-club/watch?locale=US',\n",
      " 'rent': [{'display_priority': 5,\n",
      "           'logo_path': '/9ghgSC0MA082EL6HLCW3GalykFD.jpg',\n",
      "           'provider_id': 2,\n",
      "           'provider_name': 'Apple TV'},\n",
      "          {'display_priority': 14,\n",
      "           'logo_path': '/8z7rC8uIDaTM91X0ZfkRf04ydj2.jpg',\n",
      "           'provider_id': 3,\n",
      "           'provider_name': 'Google Play Movies'},\n",
      "          {'display_priority': 15,\n",
      "           'logo_path': '/pTnn5JwWr4p3pG8H6VrpiQo7Vs0.jpg',\n",
      "           'provider_id': 192,\n",
      "           'provider_name': 'YouTube'},\n",
      "          {'display_priority': 35,\n",
      "           'logo_path': '/19fkcOz0xeUgCVW8tO85uOYnYK9.jpg',\n",
      "           'provider_id': 7,\n",
      "           'provider_name': 'Fandango At Home'}]}\n"
     ]
    }
   ],
   "source": [
    "if __name__ == \"__main__\":\n",
    "    sample_id = 550  \n",
    "\n",
    "    details = get_movie_details(sample_id)\n",
    "    print(\"Metadata:\")\n",
    "    pprint({k: details[k] for k in (\"title\", \"overview\", \"genres\", \"release_date\")})\n",
    "\n",
    "    providers = get_watch_providers(sample_id, country_code=\"US\")\n",
    "    print(\"\\nWatch Providers (US):\")\n",
    "    pprint(providers)"
   ]
  },
  {
   "cell_type": "code",
   "execution_count": null,
   "id": "44b59a5f-129c-4bff-928d-b5553d719311",
   "metadata": {},
   "outputs": [],
   "source": []
  }
 ],
 "metadata": {
  "kernelspec": {
   "display_name": "Python 3 (ipykernel)",
   "language": "python",
   "name": "python3"
  },
  "language_info": {
   "codemirror_mode": {
    "name": "ipython",
    "version": 3
   },
   "file_extension": ".py",
   "mimetype": "text/x-python",
   "name": "python",
   "nbconvert_exporter": "python",
   "pygments_lexer": "ipython3",
   "version": "3.13.5"
  }
 },
 "nbformat": 4,
 "nbformat_minor": 5
}
